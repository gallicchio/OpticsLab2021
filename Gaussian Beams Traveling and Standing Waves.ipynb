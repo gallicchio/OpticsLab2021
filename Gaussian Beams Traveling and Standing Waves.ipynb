{
 "cells": [
  {
   "cell_type": "code",
   "execution_count": null,
   "metadata": {},
   "outputs": [],
   "source": [
    "%pylab notebook"
   ]
  },
  {
   "cell_type": "code",
   "execution_count": null,
   "metadata": {},
   "outputs": [],
   "source": [
    "# To get animation working\n",
    "import matplotlib.animation\n",
    "from IPython.display import HTML"
   ]
  },
  {
   "cell_type": "code",
   "execution_count": null,
   "metadata": {},
   "outputs": [],
   "source": [
    "# Define colorize(z) to do Complex 2D Magnitude/Phase plots\n",
    "# Copy and Paste this to plot complex 2D arrays\n",
    "# See https://en.wikipedia.org/wiki/Domain_coloring\n",
    "# from https://stackoverflow.com/questions/17044052/mathplotlib-imshow-complex-2d-array\n",
    "from colorsys import hls_to_rgb\n",
    "\n",
    "def colorize(z, log=False):\n",
    "    '''\n",
    "    Turn the array z of complex numbers into an array of rgb values where\n",
    "    the hue is determined by the phase and the lightness is determined by\n",
    "    the magnitude or the log of the magnitude\n",
    "    '''\n",
    "    n,m = z.shape\n",
    "    c = np.zeros((n,m,3))\n",
    "    # Infinity and non-a-number entries will be turned into something that won't throw errors\n",
    "    c[np.isinf(z)] = (1.0, 1.0, 1.0)\n",
    "    c[np.isnan(z)] = (0.5, 0.5, 0.5)\n",
    "    \n",
    "    idx = ~(np.isinf(z) + np.isnan(z))  # indicies that contain finite numbers\n",
    "    # First get the hue based on the phase (angle) of the complex number\n",
    "    A = (np.angle(z[idx]) + np.pi) / (2*np.pi)\n",
    "    A = (A + 0.5) % 1.0\n",
    "    # Now get the lightness based on the magnitude or log(magnitude)\n",
    "    if log:\n",
    "        #v = np.arctan(np.log(np.abs(z[idx])))/np.pi+0.5  # goes from 0 to 1 when log(abs(z)) goes -inf to +inf\n",
    "        v = np.log(np.abs(z[idx]))\n",
    "        # Rescale to the middle 99.9 percentile and clip off the outliers\n",
    "        low  = np.percentile(v, 1)\n",
    "        high = np.percentile(v,99.99)\n",
    "        B = (v-low)/(high-low)  # rescale\n",
    "        B[B<0] = 0.0\n",
    "        B[B>1] = 1.0\n",
    "        print(np.min(B), np.max(B))\n",
    "    else:\n",
    "        #B = 1.0 - 1.0/(1.0+abs(z[idx])**0.3)\n",
    "        B = 1.0 - 1.0/(1.0+abs(z[idx])**0.6)  # the exponent must be less than 0\n",
    "        #B = 2/np.pi*np.arctan(abs(z[idx]))\n",
    "    c[idx] = [hls_to_rgb(a, b, 0.8) for a,b in zip(A,B)]\n",
    "    return c"
   ]
  },
  {
   "cell_type": "code",
   "execution_count": null,
   "metadata": {},
   "outputs": [],
   "source": [
    "# Gaussian Beam\n",
    "lam = 1.0\n",
    "w0 = 0.7\n",
    "#w0 = sqrt(lam*z0/pi) # Rayleigh length\n",
    "\n",
    "def w(z,lam,w0):\n",
    "    'beam waist as a function of z'\n",
    "    z0 = pi*w0**2/lam\n",
    "    return w0*sqrt(1+(z/z0)**2)\n",
    "def R(z,w0):\n",
    "    'radius of curvature of the wave fronts'\n",
    "    z0 = pi*w0**2/lam\n",
    "    return z*(1+(z0/z)**2)\n",
    "def envelope(r,z,lam,w0):\n",
    "    k = 2*pi/lam\n",
    "    z0 = pi*w0**2/lam\n",
    "    amplitude = w0/w(z,lam,z0) * exp(-r**2/w(z,lam,z0)**2)\n",
    "    longitudinal_phase = -arctan(z/z0)\n",
    "    radial_phase = k*r**2/(2*R(z,z0))\n",
    "    return amplitude*exp(1j*longitudinal_phase + 1j*radial_phase)\n",
    "def Eplus(r,z,lam,w0):\n",
    "    k = 2*pi/lam\n",
    "    return envelope(r,z,lam,w0)*exp(1j*k*z)\n",
    "\n",
    "axis_x = np.linspace(-18,18,180*4)\n",
    "axis_y = np.linspace(-10,10,100*4)\n",
    "X,Y = np.meshgrid(axis_x,axis_y)  # Two 2D arrays, which change either in x or y directions\n",
    "A = Eplus(Y,X,lam,w0)\n",
    "\n",
    "# Plot the array \"A\" using colorize\n",
    "figure(figsize=(9,5))\n",
    "extents = (min(axis_x),max(axis_x),min(axis_y),max(axis_y))\n",
    "imshow(colorize(A), interpolation='none',extent=extents,origin='lower')\n",
    "title('Gaussian Beam with $w_0=%0.1f\\lambda$'%w0);\n",
    "xlabel('z (units of $\\lambda$)')\n",
    "ylabel('x or y (units of $\\lambda$)');"
   ]
  },
  {
   "cell_type": "code",
   "execution_count": null,
   "metadata": {},
   "outputs": [],
   "source": [
    "A = envelope(Y,X,lam,w0)\n",
    "\n",
    "# Plot the array \"A\" using colorize\n",
    "figure(figsize=(9,5))\n",
    "extents = (min(axis_x),max(axis_x),min(axis_y),max(axis_y))\n",
    "imshow(colorize(A), interpolation='none',extent=extents,origin='lower')\n",
    "title('Just $\\psi$ for Gaussian Beam Envelope with $w_0=%0.1f\\lambda$'%w0);\n",
    "xlabel('z (units of $\\lambda$)')\n",
    "ylabel('x or y (units of $\\lambda$)');"
   ]
  },
  {
   "cell_type": "code",
   "execution_count": null,
   "metadata": {},
   "outputs": [],
   "source": [
    "# Intensity\n",
    "figure(figsize=(9,5))\n",
    "extents = (min(axis_x),max(axis_x),min(axis_y),max(axis_y))\n",
    "imshow(abs(A)**2, interpolation='none',extent=extents,origin='lower',cmap='gray')\n",
    "#colorbar()\n",
    "title('Gaussian Beam Intensity with $w_0=%0.1f\\lambda$'%w0);\n",
    "xlabel('z (units of $\\lambda$)')\n",
    "ylabel('x or y (units of $\\lambda$)');"
   ]
  },
  {
   "cell_type": "code",
   "execution_count": null,
   "metadata": {},
   "outputs": [],
   "source": [
    "# Animate Gaussian beams of different size\n",
    "t = np.linspace(0.3,1,num=10)  # time steps\n",
    "fig, ax = plt.subplots(figsize=(9,5))\n",
    "axis_x = np.linspace(-18,18,180*2)\n",
    "axis_y = np.linspace(-10,10,100*2)\n",
    "X,Y = np.meshgrid(axis_x,axis_y)  # Two 2D arrays, which change either in x or y directions\n",
    "A = Eplus(Y,X,lam,w0)\n",
    "im = ax.imshow(colorize(A),extent=extents,origin='lower')  # Need to spcify vmin,vmax\n",
    "title('Gaussian Beams with increasing beam waists $w_0$')\n",
    "xlabel('z (units of $\\lambda$)')\n",
    "ylabel('x or y (units of $\\lambda$)');\n",
    "\n",
    "def animate(i):\n",
    "    w0 = t[i]\n",
    "    A = Eplus(Y,X,lam,w0)\n",
    "    im.set_data(colorize(A))\n",
    "\n",
    "ani = matplotlib.animation.FuncAnimation(fig, animate, frames=len(t))"
   ]
  },
  {
   "cell_type": "code",
   "execution_count": null,
   "metadata": {},
   "outputs": [],
   "source": [
    "HTML(ani.to_jshtml())"
   ]
  },
  {
   "cell_type": "code",
   "execution_count": null,
   "metadata": {},
   "outputs": [],
   "source": [
    "# Animate just Psi for different beam sizes\n",
    "t = np.linspace(0.3,1,num=10)  # time steps\n",
    "fig, ax = plt.subplots(figsize=(9,5))\n",
    "axis_x = np.linspace(-18,18,180*2)\n",
    "axis_y = np.linspace(-10,10,100*2)\n",
    "X,Y = np.meshgrid(axis_x,axis_y)  # Two 2D arrays, which change either in x or y directions\n",
    "A = 0*Eplus(Y,X,lam,w0)\n",
    "im = ax.imshow(colorize(A),extent=extents,origin='lower')  # Need to spcify vmin,vmax\n",
    "title('Just $\\psi$ for Gaussian Envelope with increasing beam waists $w_0$')\n",
    "xlabel('z (units of $\\lambda$)')\n",
    "ylabel('x or y (units of $\\lambda$)');\n",
    "\n",
    "def animate(i):\n",
    "    w0 = t[i]\n",
    "    A = envelope(Y,X,lam,w0)\n",
    "    im.set_data(colorize(A))\n",
    "\n",
    "ani = matplotlib.animation.FuncAnimation(fig, animate, frames=len(t))"
   ]
  },
  {
   "cell_type": "code",
   "execution_count": null,
   "metadata": {},
   "outputs": [],
   "source": [
    "HTML(ani.to_jshtml())"
   ]
  },
  {
   "cell_type": "code",
   "execution_count": null,
   "metadata": {},
   "outputs": [],
   "source": [
    "# Animate intensity for different beam sizes\n",
    "t = np.linspace(0.3,1,num=10)  # time steps\n",
    "fig, ax = plt.subplots(figsize=(9,5))\n",
    "axis_x = np.linspace(-18,18,180*2)\n",
    "axis_y = np.linspace(-10,10,100*2)\n",
    "X,Y = np.meshgrid(axis_x,axis_y)  # Two 2D arrays, which change either in x or y directions\n",
    "A = 0*Eplus(Y,X,lam,w0)\n",
    "im = ax.imshow(abs(A)**2,extent=extents,origin='lower',cmap='gray',vmin=0,vmax=0.3)  # Need to spcify vmin,vmax\n",
    "title('Gaussian Intensity with increasing beam waists $w_0$')\n",
    "xlabel('z (units of $\\lambda$)')\n",
    "ylabel('x or y (units of $\\lambda$)');\n",
    "\n",
    "def animate(i):\n",
    "    w0 = t[i]\n",
    "    A = Eplus(Y,X,lam,w0)\n",
    "    im.set_data(abs(A)**2)\n",
    "\n",
    "ani = matplotlib.animation.FuncAnimation(fig, animate, frames=len(t))"
   ]
  },
  {
   "cell_type": "code",
   "execution_count": null,
   "metadata": {},
   "outputs": [],
   "source": [
    "HTML(ani.to_jshtml())"
   ]
  },
  {
   "cell_type": "code",
   "execution_count": null,
   "metadata": {},
   "outputs": [],
   "source": [
    "# Animate Right-Going Traveling Complex Gaussian Beam\n",
    "t = np.linspace(0,1,num=10)  # time steps\n",
    "fig, ax = plt.subplots(figsize=(9,5))\n",
    "axis_x = np.linspace(-18,18,180*2)\n",
    "axis_y = np.linspace(-10,10,100*2)\n",
    "X,Y = np.meshgrid(axis_x,axis_y)  # Two 2D arrays, which change either in x or y directions\n",
    "w0 = 0.7\n",
    "A = 0*X\n",
    "im = ax.imshow(colorize(A),extent=extents,origin='lower')  # Need to spcify vmin,vmax\n",
    "title('Right-Going Traveling Complex Gaussian Beam with $w_0=%0.1f\\lambda$'%w0);\n",
    "xlabel('z (units of $\\lambda$)')\n",
    "ylabel('x or y (units of $\\lambda$)');\n",
    "\n",
    "def animate(i):\n",
    "    A = Eplus(Y,X,lam,w0)*exp(-2j*pi*t[i])\n",
    "    im.set_data(colorize(A))\n",
    "\n",
    "ani = matplotlib.animation.FuncAnimation(fig, animate, frames=len(t))"
   ]
  },
  {
   "cell_type": "code",
   "execution_count": null,
   "metadata": {},
   "outputs": [],
   "source": [
    "# Animate Real Right-Going Traveling Gaussian\n",
    "t = np.linspace(0,1,num=10)  # time steps\n",
    "fig, ax = plt.subplots(figsize=(9,5))\n",
    "axis_x = np.linspace(-18,18,180*2)\n",
    "axis_y = np.linspace(-10,10,100*2)\n",
    "X,Y = np.meshgrid(axis_x,axis_y)  # Two 2D arrays, which change either in x or y directions\n",
    "w0 = 0.7\n",
    "A = 0*X\n",
    "im = ax.imshow(colorize(A),extent=extents,origin='lower')  # Need to spcify vmin,vmax\n",
    "title('Real Right-Going Traveling Gaussian Beam with $w_0=%0.1f\\lambda$'%w0);\n",
    "xlabel('z (units of $\\lambda$)')\n",
    "ylabel('x or y (units of $\\lambda$)');\n",
    "\n",
    "def animate(i):\n",
    "    A = Eplus(Y,X,lam,w0)*exp(-2j*pi*t[i])\n",
    "    R = A + conjugate(A)\n",
    "    im.set_data(colorize(R))\n",
    "\n",
    "ani = matplotlib.animation.FuncAnimation(fig, animate, frames=len(t))"
   ]
  },
  {
   "cell_type": "code",
   "execution_count": null,
   "metadata": {},
   "outputs": [],
   "source": [
    "# Animate Real Left-Going Traveling Gaussian Beam\n",
    "t = np.linspace(0,1,num=10)  # time steps\n",
    "fig, ax = plt.subplots(figsize=(9,5))\n",
    "axis_x = np.linspace(-18,18,180*2)\n",
    "axis_y = np.linspace(-10,10,100*2)\n",
    "X,Y = np.meshgrid(axis_x,axis_y)  # Two 2D arrays, which change either in x or y directions\n",
    "w0 = 0.7\n",
    "A = 0*X\n",
    "im = ax.imshow(colorize(A),extent=extents,origin='lower')  # Need to spcify vmin,vmax\n",
    "title('Real Left-Going Traveling Gaussian Beam with $w_0=%0.1f\\lambda$'%w0);\n",
    "xlabel('z (units of $\\lambda$)')\n",
    "ylabel('x or y (units of $\\lambda$)');\n",
    "\n",
    "def animate(i):\n",
    "    A = conjugate(Eplus(Y,X,lam,w0))*exp(-2j*pi*t[i])\n",
    "    L = A + conjugate(A)\n",
    "    im.set_data(colorize(L))\n",
    "\n",
    "ani = matplotlib.animation.FuncAnimation(fig, animate, frames=len(t))"
   ]
  },
  {
   "cell_type": "code",
   "execution_count": null,
   "metadata": {},
   "outputs": [],
   "source": [
    "# Animate Real Standing Gaussian Beam\n",
    "t = np.linspace(0,1,num=10)  # time steps\n",
    "fig, ax = plt.subplots(figsize=(9,5))\n",
    "axis_x = np.linspace(-18,18,180*2)\n",
    "axis_y = np.linspace(-10,10,100*2)\n",
    "X,Y = np.meshgrid(axis_x,axis_y)  # Two 2D arrays, which change either in x or y directions\n",
    "w0 = 0.7\n",
    "A = 0*X\n",
    "im = ax.imshow(colorize(A),extent=extents,origin='lower')  # Need to spcify vmin,vmax\n",
    "title('Real Standing Gaussian Beam with $w_0=%0.1f\\lambda$'%w0);\n",
    "xlabel('z (units of $\\lambda$)')\n",
    "ylabel('x or y (units of $\\lambda$)');\n",
    "\n",
    "def animate(i):\n",
    "    R = Eplus(Y,X,lam,w0)*exp(-2j*pi*t[i])\n",
    "    R = R + conjugate(R)\n",
    "    A = conjugate(Eplus(Y,X,lam,w0))*exp(-2j*pi*t[i])\n",
    "    L = A + conjugate(A)\n",
    "    im.set_data(colorize(L+R))\n",
    "\n",
    "ani = matplotlib.animation.FuncAnimation(fig, animate, frames=len(t))"
   ]
  },
  {
   "cell_type": "code",
   "execution_count": null,
   "metadata": {},
   "outputs": [],
   "source": [
    "# Animate Mirrors with Real Standing Gaussian Beam\n",
    "t = np.arange(16)/16.0  # time steps\n",
    "fig, ax = plt.subplots(figsize=(9,5))\n",
    "axis_x = np.linspace(-18,18,180*2)\n",
    "axis_y = np.linspace(-10,10,100*2)\n",
    "X,Y = np.meshgrid(axis_x,axis_y)  # Two 2D arrays, which change either in x or y directions\n",
    "w0 = 0.7\n",
    "A = 0*X\n",
    "im = ax.imshow(colorize(A),extent=extents,origin='lower')  # Need to spcify vmin,vmax\n",
    "mirror = 17\n",
    "title('Mirrors at $\\pm%0.1f\\lambda$ for Real Standing Gaussian Beam with $w_0=%0.1f\\lambda$'%(mirror,w0));\n",
    "xlabel('z (units of $\\lambda$)')\n",
    "ylabel('x or y (units of $\\lambda$)');\n",
    "\n",
    "def animate(i):\n",
    "    A = Eplus(Y,X,lam,w0)*exp(-2j*pi*t[i])\n",
    "    R = A + conjugate(A)\n",
    "    A = conjugate(Eplus(Y,X,lam,w0))*exp(-2j*pi*t[i])\n",
    "    L = A + conjugate(A)\n",
    "    mask = (X**2 + Y**2) < (mirror)**2\n",
    "    im.set_data(colorize((L+R)*mask))\n",
    "\n",
    "ani = matplotlib.animation.FuncAnimation(fig, animate, frames=len(t))"
   ]
  },
  {
   "cell_type": "code",
   "execution_count": null,
   "metadata": {},
   "outputs": [],
   "source": [
    "HTML(ani.to_jshtml())\n",
    "\n",
    "erf?"
   ]
  },
  {
   "cell_type": "code",
   "execution_count": null,
   "metadata": {},
   "outputs": [],
   "source": [
    "import scipy.special"
   ]
  },
  {
   "cell_type": "code",
   "execution_count": null,
   "metadata": {},
   "outputs": [],
   "source": [
    "scipy.special.erf(1)"
   ]
  },
  {
   "cell_type": "code",
   "execution_count": null,
   "metadata": {},
   "outputs": [],
   "source": [
    "scipy.special.erfinv(0.843)"
   ]
  },
  {
   "cell_type": "code",
   "execution_count": null,
   "metadata": {},
   "outputs": [],
   "source": [
    "axis_x = np.linspace(-3,3,500)\n",
    "axis_y = np.linspace(-3,3,500)\n",
    "X,Y = np.meshgrid(axis_x,axis_y)  # Two 2D arrays, which change either in x or y directions\n",
    "A = exp(-X**2-Y**2) * (X>-0.5)\n",
    "\n",
    "# Plot the array \"A\" using colorize\n",
    "figure()\n",
    "extents = (min(axis_x),max(axis_x),min(axis_y),max(axis_y))\n",
    "imshow(A,cmap='gray',interpolation='none',extent=extents,origin='lower')\n",
    "title('Gaussian profile with knife edge at x=-0.5');\n",
    "xlabel('x [arbitrary units]')\n",
    "ylabel('y [arbitrary units]');\n",
    "tight_layout();\n",
    "savefig('knife_edge_gaussian.pdf');"
   ]
  },
  {
   "cell_type": "code",
   "execution_count": null,
   "metadata": {},
   "outputs": [],
   "source": []
  }
 ],
 "metadata": {
  "kernelspec": {
   "display_name": "Python 3",
   "language": "python",
   "name": "python3"
  },
  "language_info": {
   "codemirror_mode": {
    "name": "ipython",
    "version": 3
   },
   "file_extension": ".py",
   "mimetype": "text/x-python",
   "name": "python",
   "nbconvert_exporter": "python",
   "pygments_lexer": "ipython3",
   "version": "3.8.5"
  }
 },
 "nbformat": 4,
 "nbformat_minor": 4
}
