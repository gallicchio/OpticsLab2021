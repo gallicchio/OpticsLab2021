{
 "cells": [
  {
   "cell_type": "code",
   "execution_count": 2,
   "metadata": {},
   "outputs": [],
   "source": [
    "import serial"
   ]
  },
  {
   "cell_type": "markdown",
   "metadata": {},
   "source": [
    "From http://www.ece.ubc.ca/~eng-services/files/manuals/Man_DMM_fluke45.pdf\n",
    "To configure simple \"print reading every second,\"\n",
    "\n",
    "To determine which computer interface is enabled, press in POWER to turn the meter on.Press \"2nd\", then press \"RATE\".  If \"baud\" and a rate are displayed, the RS-232 interface isenabled; if \"IEEE\" is displayed, the IEEE-488 interface is enabled.\n",
    "\n",
    "RS-232 Print-Only Mode:\n",
    "Press \"2nd\", then press \"MIN/MAX\" (ADDR).\n",
    "If the RS-232 interface is selected, \"PRINT\" is shown in the secondary display andthe list editor is invoked on the print rate list.\n",
    "\n",
    "Press \"UP\" or \"DOWN to scroll to one of the print rates shown in Table 5-2 (prints every Nth one at Slow, Medium, or Fast), then press \"AUTO\" to select that rate. A print rate of \"0\" disables the print-only mode.\n"
   ]
  },
  {
   "cell_type": "code",
   "execution_count": 197,
   "metadata": {},
   "outputs": [],
   "source": [
    "#ser = serial.Serial('/dev/ttyUSB0')\n",
    "#ser = serial.Serial('/dev/ttyUSB0', 9600, timeout=1)  # 9600 8N1\n",
    "ser = serial.Serial('/dev/ttyUSB2', 9600, timeout=1)  # 9600 8N1"
   ]
  },
  {
   "cell_type": "code",
   "execution_count": 198,
   "metadata": {},
   "outputs": [
    {
     "data": {
      "text/plain": [
       "'/dev/ttyUSB2'"
      ]
     },
     "execution_count": 198,
     "metadata": {},
     "output_type": "execute_result"
    }
   ],
   "source": [
    "ser.name"
   ]
  },
  {
   "cell_type": "code",
   "execution_count": 200,
   "metadata": {},
   "outputs": [
    {
     "data": {
      "text/plain": [
       "b'+198.84E-3\\r\\n+198.97E-3\\r\\n+198.86E-3\\r\\n+199.11E-3\\r\\n+198.89E-3\\r\\n+199.30E-3\\r\\n+200.15E-3\\r\\n+200.37E-3\\r\\n+199.72E-3\\r\\n'"
      ]
     },
     "execution_count": 200,
     "metadata": {},
     "output_type": "execute_result"
    }
   ],
   "source": [
    "ser.read_all()   # Read all bytes currently available in the buffer of the OS. Clear buffer"
   ]
  },
  {
   "cell_type": "code",
   "execution_count": 193,
   "metadata": {},
   "outputs": [
    {
     "data": {
      "text/plain": [
       "0.18471"
      ]
     },
     "execution_count": 193,
     "metadata": {},
     "output_type": "execute_result"
    }
   ],
   "source": [
    "ser.read_all()  # Read all bytes currently available in the buffer of the OS. Clear buffer\n",
    "line = ser.readline()\n",
    "float(line)"
   ]
  },
  {
   "cell_type": "code",
   "execution_count": 202,
   "metadata": {},
   "outputs": [],
   "source": [
    "data = {} # Clear"
   ]
  },
  {
   "cell_type": "code",
   "execution_count": 185,
   "metadata": {},
   "outputs": [],
   "source": [
    "def take(micrometer_reading):\n",
    "    ser.read_all()  # Read all bytes currently available in the buffer of the OS. Clear buffer\n",
    "    # we might end up reading a partial value, so try to parse it as a float and try again if bad\n",
    "    while True:\n",
    "        try:\n",
    "            line = ser.readline()\n",
    "            voltage = float(line)\n",
    "            break\n",
    "        except ValueError as e:\n",
    "            continue\n",
    "    if micrometer_reading not in data:\n",
    "        data[micrometer_reading] = []\n",
    "    data[micrometer_reading].append(voltage)\n",
    "    for reading in sorted(data.keys()):\n",
    "        row = [reading]+data[reading]\n",
    "        print(repr(row)[1:-1])"
   ]
  },
  {
   "cell_type": "code",
   "execution_count": 194,
   "metadata": {},
   "outputs": [
    {
     "name": "stdout",
     "output_type": "stream",
     "text": [
      "14.0, -0.003344, -0.003214, -0.002006, -0.003238, -0.00321\n",
      "14.05, -0.002118, -0.002274, -0.002007, -0.001958, -0.002244\n",
      "14.1, -0.000177, -0.000162, -5.9e-05, 5.9e-05, -0.000151, 0.000108, 0.000104\n",
      "14.15, 0.003739, 0.003841, 0.004148, 0.003969, 0.004348\n",
      "14.2, 0.012487, 0.012294, 0.012606, 0.013156, 0.012721\n",
      "14.25, 0.03147, 0.032579, 0.03207, 0.032617, 0.031868\n",
      "14.3, 0.019421, 0.07104, 0.076024, 0.073661, 0.073573, 0.072823\n",
      "14.35, 0.14146, 0.14467, 0.14815, 0.14676, 0.15008\n",
      "14.4, 0.23189, 0.22917, 0.23068, -3.0, 0.23259, 0.22921\n",
      "14.45, 0.23441, 0.23953, 0.23624, 0.23579, 0.23381\n",
      "14.5, 0.15349, 0.15002, 0.15, 0.15054, 0.15242\n",
      "14.55, 0.18924, 0.1836, 0.18792, 0.18942, 0.18675\n",
      "14.6, 0.1938, 0.1932, 0.19429, 0.1921, 0.19026\n",
      "14.65, 0.17647, 0.17674, 0.18004, 0.17483, 0.17516\n",
      "14.7, 0.17982, 0.17688, 0.17875, 0.17889, 0.17552\n",
      "14.75, 0.19915, 0.20071, 0.20065, 0.20077, 0.19977\n",
      "14.8, 0.17358, 0.17399, 0.17603, 0.17377, 0.17424\n",
      "14.85, 0.16954, 0.17029, 0.17105, 0.17145, 0.17009\n",
      "14.9, 0.1791, 0.1814, 0.1812, 0.18157, 0.17941\n",
      "14.95, 0.18238, 0.18099, 0.18613, 0.18302, 0.18497\n",
      "15.0, 0.18148, 0.18353, 0.1813, 0.18251, 0.1854\n"
     ]
    }
   ],
   "source": [
    "take(15.0)"
   ]
  },
  {
   "cell_type": "code",
   "execution_count": 337,
   "metadata": {},
   "outputs": [
    {
     "name": "stdout",
     "output_type": "stream",
     "text": [
      "0, 0.20047, 0.20154, 0.20239, 0.20237, 0.20316\n",
      "1, 0.18128, 0.18424, 0.18469, 0.18397, 0.18089\n",
      "2, 0.067644, 0.068413, 0.069421, 0.06643, 0.066739\n",
      "3, 0.01806, 0.018103, 0.017778, 0.018581, 0.019211\n",
      "4, 0.39, 0.39231, 0.38171, 0.38017, 0.37295\n",
      "5, 1.5652, 1.5923, 1.6131, 1.6108, 1.6161\n",
      "6, 3.9294, 3.9517, 3.9326, 3.9334, 3.9462\n",
      "7, 7.2746, 7.2799, 7.3005, 7.3456, 7.3651\n",
      "8, 11.154, 11.151, 11.148, 11.199, 11.164\n",
      "9, 13.647, 13.647, 13.648, 13.647, 13.647\n",
      "10, 3.647, 13.647, 13.647, 13.647, 13.646\n",
      "11, 13.647, 13.647, 13.646, 13.647, 13.647\n",
      "12, 13.646, 13.646, 13.646, 13.646, 0.0, 13.647\n",
      "13, 11.514, 11.45, 11.521, 11.473, 11.46\n",
      "14, 7.7064, 7.6148, 7.5941, 7.5728, 7.6395\n",
      "15, 4.1734, 4.1715, 4.1416, 4.1449, 4.108\n",
      "16, 1.731, 1.7367, 1.6972, 1.7162, 1.6822\n",
      "17, 0.42903, 0.42706, 0.42259, 0.42689, 0.41231\n",
      "18, 0.018117, 0.017182, 0.019367, 0.016373, 0.01672\n",
      "19, 0.062501, 0.063405, 0.063041, 0.06334, 0.064447\n",
      "20, 0.18772, 0.18611, 0.18809, 0.003, 0.18896\n",
      "21, 0.21276, 0.21228, 0.2124, 0.21142, 0.2132\n",
      "22, 0.13684, 0.13793, 0.1357, 0.13565, 0.13587\n",
      "23, 0.042687, 0.042031, 0.041456, 0.041403, 0.04051\n",
      "24, -0.002208, -0.002333, -0.00257, -0.002638, -0.002427\n",
      "25, 0.0102, 0.011028, 0.01118, 0.011229, 0.011217\n"
     ]
    }
   ],
   "source": [
    "take(12)"
   ]
  },
  {
   "cell_type": "code",
   "execution_count": 86,
   "metadata": {},
   "outputs": [
    {
     "data": {
      "text/plain": [
       "[-0.006054]"
      ]
     },
     "execution_count": 86,
     "metadata": {},
     "output_type": "execute_result"
    }
   ],
   "source": [
    "data.pop(14.25)"
   ]
  },
  {
   "cell_type": "code",
   "execution_count": 96,
   "metadata": {},
   "outputs": [
    {
     "data": {
      "text/plain": [
       "-2.7e-05"
      ]
     },
     "execution_count": 96,
     "metadata": {},
     "output_type": "execute_result"
    }
   ],
   "source": [
    "data[14.10].pop()"
   ]
  },
  {
   "cell_type": "code",
   "execution_count": 206,
   "metadata": {},
   "outputs": [],
   "source": [
    "data = {}"
   ]
  },
  {
   "cell_type": "code",
   "execution_count": 338,
   "metadata": {},
   "outputs": [],
   "source": [
    "ser.close()"
   ]
  },
  {
   "cell_type": "code",
   "execution_count": null,
   "metadata": {},
   "outputs": [],
   "source": []
  }
 ],
 "metadata": {
  "kernelspec": {
   "display_name": "Python 3",
   "language": "python",
   "name": "python3"
  },
  "language_info": {
   "codemirror_mode": {
    "name": "ipython",
    "version": 3
   },
   "file_extension": ".py",
   "mimetype": "text/x-python",
   "name": "python",
   "nbconvert_exporter": "python",
   "pygments_lexer": "ipython3",
   "version": "3.8.5"
  }
 },
 "nbformat": 4,
 "nbformat_minor": 4
}
